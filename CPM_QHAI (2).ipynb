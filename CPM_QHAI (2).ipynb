{
  "nbformat": 4,
  "nbformat_minor": 0,
  "metadata": {
    "colab": {
      "provenance": [],
      "machine_shape": "hm",
      "gpuType": "A100"
    },
    "kernelspec": {
      "name": "ir",
      "display_name": "R"
    },
    "language_info": {
      "name": "R"
    },
    "accelerator": "GPU"
  },
  "cells": [
    {
      "cell_type": "markdown",
      "source": [
        "\n",
        "\n"
      ],
      "metadata": {
        "id": "OTSJnUxYLFCv"
      }
    },
    {
      "cell_type": "code",
      "source": [
        "#Libraries\n",
        "\n",
        "install.packages(c(\n",
        "  \"dplyr\",\n",
        "  \"tidyr\",\n",
        "  \"purrr\",\n",
        "  \"ggplot2\",\n",
        "  \"patchwork\",\n",
        "  \"knitr\",\n",
        "  \"glue\",\n",
        "  \"ResourceSelection\",\n",
        " \"tidyverse\",\n",
        "  \"rsample\",\n",
        "   \"pROC\",\n",
        "  \"caret\"\n",
        "))"
      ],
      "metadata": {
        "id": "2dWmv93sry5H"
      },
      "execution_count": 46,
      "outputs": []
    },
    {
      "cell_type": "code",
      "source": [
        "library(dplyr)\n",
        "library(tidyr)\n",
        "library(purrr)\n",
        "library(ggplot2)\n",
        "library(patchwork)\n",
        "library(knitr)\n",
        "library(glue)\n",
        "library(rsample)\n",
        "library(tidyverse)\n",
        "library(MASS)\n",
        "library(broom)\n",
        "library(pROC)\n",
        "library(caret)"
      ],
      "metadata": {
        "id": "qLWTgBF1ztwi"
      },
      "execution_count": 47,
      "outputs": []
    },
    {
      "cell_type": "code",
      "execution_count": 48,
      "metadata": {
        "colab": {
          "base_uri": "https://localhost:8080/"
        },
        "collapsed": true,
        "id": "2hiWGbJFnqqO",
        "outputId": "854f035b-02d4-43ac-ac1c-dd6ab7b4da2b"
      },
      "outputs": [
        {
          "output_type": "stream",
          "name": "stdout",
          "text": [
            "  age gender weight height acute_coronary_syndrome cardiac_arrest\n",
            "1  76      1   76.2    166                       1              0\n",
            "2  57      1   96.0    157                       0              0\n",
            "3  56      0   91.0    185                       0              0\n",
            "4  75      1   93.0    168                       0              0\n",
            "5  47      0  127.0    183                       0              0\n",
            "6  66      0   91.0    173                       1              0\n",
            "  atrial_fibrillation mitral_valve_disease aortic_valve_disease\n",
            "1                   0                    1                    0\n",
            "2                   0                    0                    0\n",
            "3                   0                    0                    1\n",
            "4                   1                    0                    0\n",
            "5                   1                    0                    0\n",
            "6                   1                    1                    0\n",
            "  pulmonary_hypertension hypertension peripheral_vascular_disease\n",
            "1                      0            1                           0\n",
            "2                      0            1                           1\n",
            "3                      1            0                           0\n",
            "4                      0            1                           1\n",
            "5                      0            1                           0\n",
            "6                      0            1                           1\n",
            "  hyperlipidemia copd acute_ischemic_stroke malignant_cancer\n",
            "1              0    0                     0                0\n",
            "2              0    1                     0                0\n",
            "3              0    0                     0                0\n",
            "4              0    0                     0                1\n",
            "5              0    0                     0                0\n",
            "6              0    1                     0                0\n",
            "  metastatic_solid_tumor cirrhosis obesity deep_vein_thrombosis\n",
            "1                      0         0       0                    0\n",
            "2                      0         0       1                    0\n",
            "3                      0         0       0                    0\n",
            "4                      0         0       1                    0\n",
            "5                      0         0       0                    0\n",
            "6                      0         0       1                    0\n",
            "  pulmonary_embolism shock history_major_cerebrovascular_event diabetes\n",
            "1                  0     0                                   1        1\n",
            "2                  0     0                                   0        1\n",
            "3                  0     0                                   0        0\n",
            "4                  0     1                                   0        0\n",
            "5                  0     1                                   1        0\n",
            "6                  0     0                                   0        1\n",
            "  immunodeficient dialysis troponin_t nt_pro_bnp hematocrit hemoglobin  MCH\n",
            "1               0        0        0.1     5511.0       27.9       92.8 31.0\n",
            "2               0        0        1.6      824.0       31.0      112.2 34.0\n",
            "3               0        0        0.8     2554.3       30.9      104.0 31.7\n",
            "4               0        0       -0.3     1903.0       29.0       99.1 31.2\n",
            "5               0        1        1.6      379.0       33.7      114.1 27.9\n",
            "6               0        0        0.7     5092.0       26.4       80.6 30.9\n",
            "  MCHC  MCV platelet_count RBC creatinine glucose   ALT ALP    AST  WBC sodium\n",
            "1 33.2 93.5            188 3.0        2.3     163  12.0  61   21.0  6.3    143\n",
            "2 34.8 97.8            192 3.2        1.1     238 177.4  93 -345.9 20.2    140\n",
            "3 33.7 94.4            119 3.3        1.3     152  81.6  62  113.0 16.0    142\n",
            "4 35.9 87.2             39 3.3        1.4     148  30.0  55  121.0  8.2    141\n",
            "5 33.9 82.5             10 4.1        7.9     425 135.0 240  218.0 21.6    134\n",
            "6 32.5 95.0            192 2.7        1.1     212 -65.1  67  361.6 14.9    139\n",
            "  potassium  ph lactate estimated_gfr heart_rate systolic_blood_pressure\n",
            "1       4.5 7.4     3.4          21.5       73.6                   142.5\n",
            "2       4.7 7.4     3.3          58.6       94.2                   112.7\n",
            "3       5.8 7.4     3.1          64.5       72.7                   108.2\n",
            "4       5.0 7.4    11.0          39.2      120.5                   100.8\n",
            "5       4.4 7.4     5.4           7.8      112.6                   110.0\n",
            "6       4.5 7.6     2.3          74.0       73.8                   118.9\n",
            "  diastolic_blood_pressure mean_blood_pressure antiplatelet_therapy\n",
            "1                     83.3                97.5                    1\n",
            "2                     62.3                76.6                    1\n",
            "3                     58.2                73.8                    1\n",
            "4                     66.8                76.8                    0\n",
            "5                     69.5                81.7                    0\n",
            "6                     43.9                63.3                    1\n",
            "  vasopressor_use calcium_channel_blockers diuretics\n",
            "1               0                        1         1\n",
            "2               1                        0         1\n",
            "3               1                        0         1\n",
            "4               1                        0         1\n",
            "5               1                        1         0\n",
            "6               1                        1         1\n",
            "  potassium_sparing_diuretics beta_blockers ace_or_arb\n",
            "1                           0             1          1\n",
            "2                           0             1          1\n",
            "3                           0             1          0\n",
            "4                           0             1          0\n",
            "5                           0             1          1\n",
            "6                           0             1          1\n",
            "  anticoagulation_medications lipid_lowering_medication\n",
            "1                           0                         1\n",
            "2                           0                         1\n",
            "3                           1                         1\n",
            "4                           0                         0\n",
            "5                           1                         0\n",
            "6                           0                         1\n",
            "  coronary_artery_bypass_graft percutaneous_coronary_intervention valve_surgery\n",
            "1                            0                                  1             0\n",
            "2                            1                                  0             0\n",
            "3                            0                                  0             1\n",
            "4                            0                                  0             0\n",
            "5                            0                                  0             0\n",
            "6                            1                                  0             0\n",
            "  mechanical_ventilation defibrillator_device pacemaker_device mortality_90d\n",
            "1                      0                    0                0             0\n",
            "2                      1                    0                0             0\n",
            "3                      1                    0                0             0\n",
            "4                      1                    0                0             0\n",
            "5                      1                    0                0             0\n",
            "6                      1                    0                0             0\n"
          ]
        }
      ],
      "source": [
        "# Upload the data\n",
        "\n",
        "csv_url <- \"https://raw.githubusercontent.com/houraniiiii/cpmqhai/refs/heads/main/HFdemo.csv\"\n",
        "\n",
        "CHF_data <- read.csv(csv_url)\n",
        "\n",
        "print(head(CHF_data))"
      ]
    },
    {
      "cell_type": "code",
      "source": [
        "# Data inspection    ---- Tables\n",
        "\n",
        "# ══════════════════════════════════════════════════════════════════════════════\n",
        "#  1.  DETECT BINARY vs CONTINUOUS\n",
        "# ══════════════════════════════════════════════════════════════════════════════\n",
        "binary_cols <- names(CHF_data)[\n",
        "  sapply(CHF_data, function(x) {\n",
        "    (is.numeric(x) && all(na.omit(x) %in% c(0, 1))) ||\n",
        "      (is.factor(x)  && all(levels(x) %in% c(\"0\",\"1\")))\n",
        "  })\n",
        "]\n",
        "\n",
        "continuous_cols <- names(CHF_data)[\n",
        "  sapply(CHF_data, is.numeric) & !(names(CHF_data) %in% binary_cols)\n",
        "]\n",
        "\n",
        "# ══════════════════════════════════════════════════════════════════════════════\n",
        "#  2.  SUMMARY TABLES  ----------------------------------------------------------\n",
        "# ══════════════════════════════════════════════════════════════════════════════\n",
        "## 2a. Continuous\n",
        "cont_summary <- purrr::map_dfr(continuous_cols, function(col) {\n",
        "  v <- CHF_data[[col]]\n",
        "  tibble(\n",
        "    variable = col,\n",
        "    median   = median(v, na.rm = TRUE),\n",
        "    IQR      = IQR(v,    na.rm = TRUE),\n",
        "    mean     = mean(v,   na.rm = TRUE),\n",
        "    sd       = sd(v,     na.rm = TRUE),\n",
        "    min      = min(v,    na.rm = TRUE),\n",
        "    max      = max(v,    na.rm = TRUE),\n",
        "    na_n     = sum(is.na(v)),\n",
        "    na_pct   = mean(is.na(v)) * 100\n",
        "  )\n",
        "}) %>%\n",
        "\n",
        "  mutate(\n",
        "    across(c(median:IQR, mean:sd, min:max, na_pct), ~ round(.x, 1))\n",
        "  )\n",
        "\n",
        "## 2b. Binary ──────────────────────────────────────────────────────────────────\n",
        "bin_summary <- purrr::map_dfr(binary_cols, function(col) {\n",
        "  v <- CHF_data[[col]]\n",
        "  tibble(\n",
        "    variable = col,\n",
        "    n0   = sum(v %in% c(0, \"0\"), na.rm = TRUE),\n",
        "    pct0 = mean(v %in% c(0, \"0\"), na.rm = TRUE) * 100,\n",
        "    n1   = sum(v %in% c(1, \"1\"), na.rm = TRUE),\n",
        "    pct1 = mean(v %in% c(1, \"1\"), na.rm = TRUE) * 100\n",
        "  )\n",
        "}) %>%\n",
        "\n",
        "  mutate(\n",
        "    across(c(pct0, pct1), ~ round(.x, 1))\n",
        "  )\n",
        "\n",
        "knitr::kable(cont_summary, caption = \"Continuous variables\")\n",
        "knitr::kable(bin_summary,  caption = \"Binary variables\")"
      ],
      "metadata": {
        "colab": {
          "base_uri": "https://localhost:8080/",
          "height": 1000
        },
        "collapsed": true,
        "id": "Wycp1JplnyiE",
        "outputId": "70c7ca91-3f58-4b15-906f-4cee6d8f28e9"
      },
      "execution_count": 49,
      "outputs": [
        {
          "output_type": "display_data",
          "data": {
            "text/plain": [
              "\n",
              "\n",
              "Table: Continuous variables\n",
              "\n",
              "|variable                 | median|    IQR|   mean|      sd|     min|     max| na_n| na_pct|\n",
              "|:------------------------|------:|------:|------:|-------:|-------:|-------:|----:|------:|\n",
              "|age                      |   68.0|   14.0|   65.8|    11.0|    18.0|    80.0|    0|      0|\n",
              "|weight                   |   85.0|   30.5|   88.8|    27.3|    30.7|   345.0|    0|      0|\n",
              "|height                   |  170.0|   15.0|  169.9|    10.8|   132.0|   220.0|    0|      0|\n",
              "|troponin_t               |    0.2|    0.9|    1.0|     3.0|    -1.5|    52.4|    0|      0|\n",
              "|nt_pro_bnp               | 5168.0| 8905.0| 9019.9| 11060.4| -1013.9| 68886.0|    0|      0|\n",
              "|hematocrit               |   30.6|    7.6|   31.6|     5.7|    14.4|    63.0|    0|      0|\n",
              "|hemoglobin               |  100.0|   26.0|  103.2|    19.3|    39.7|   194.0|    0|      0|\n",
              "|MCH                      |   29.9|    3.0|   29.7|     2.6|    17.1|    42.1|    0|      0|\n",
              "|MCHC                     |   32.8|    2.0|   32.7|     1.5|    25.3|    37.3|    0|      0|\n",
              "|MCV                      |   90.8|    8.2|   90.8|     6.9|    58.4|   125.0|    0|      0|\n",
              "|platelet_count           |  151.0|  102.0|  164.5|    87.0|     5.0|   784.0|    0|      0|\n",
              "|RBC                      |    3.4|    0.9|    3.5|     0.7|     1.7|     6.7|    0|      0|\n",
              "|creatinine               |    1.4|    1.5|    2.2|     2.2|     0.1|    22.1|    0|      0|\n",
              "|glucose                  |  168.0|   91.0|  197.8|   108.7|    64.0|  2230.0|    0|      0|\n",
              "|ALT                      |   30.0|   77.0|  155.8|  1090.2|  -589.0| 61854.0|    0|      0|\n",
              "|ALP                      |   89.0|   60.2|  111.3|   108.6|    12.0|  2476.0|    0|      0|\n",
              "|AST                      |   42.0|  147.9|  274.8|  1409.4|  -755.3| 42606.0|    0|      0|\n",
              "|WBC                      |   13.7|    8.7|   15.5|     9.6|     0.1|   292.5|    0|      0|\n",
              "|sodium                   |  141.0|    5.0|  140.9|     4.4|   120.0|   172.0|    0|      0|\n",
              "|potassium                |    4.7|    0.8|    4.9|     0.8|     3.0|     9.8|    0|      0|\n",
              "|ph                       |    7.4|    0.1|    7.4|     0.1|     7.1|     7.8|    0|      0|\n",
              "|lactate                  |    2.3|    1.6|    2.9|     2.3|     0.3|    25.1|    0|      0|\n",
              "|estimated_gfr            |   47.6|   47.9|   50.6|    30.2|     1.8|   182.9|    0|      0|\n",
              "|heart_rate               |   83.8|   19.0|   85.2|    14.3|    40.6|   150.0|    0|      0|\n",
              "|systolic_blood_pressure  |  113.6|   18.8|  116.2|    15.5|    71.8|   196.4|    0|      0|\n",
              "|diastolic_blood_pressure |   60.7|   12.9|   61.8|    10.3|    28.9|   113.1|    0|      0|\n",
              "|mean_blood_pressure      |   75.7|   11.8|   77.0|     9.8|    49.5|   132.0|    0|      0|"
            ]
          },
          "metadata": {}
        },
        {
          "output_type": "display_data",
          "data": {
            "text/plain": [
              "\n",
              "\n",
              "Table: Binary variables\n",
              "\n",
              "|variable                            |   n0| pct0|   n1| pct1|\n",
              "|:-----------------------------------|----:|----:|----:|----:|\n",
              "|gender                              | 3669| 60.8| 2362| 39.2|\n",
              "|acute_coronary_syndrome             | 4431| 73.5| 1600| 26.5|\n",
              "|cardiac_arrest                      | 5784| 95.9|  247|  4.1|\n",
              "|atrial_fibrillation                 | 3360| 55.7| 2671| 44.3|\n",
              "|mitral_valve_disease                | 4796| 79.5| 1235| 20.5|\n",
              "|aortic_valve_disease                | 5108| 84.7|  923| 15.3|\n",
              "|pulmonary_hypertension              | 4971| 82.4| 1060| 17.6|\n",
              "|hypertension                        | 1415| 23.5| 4616| 76.5|\n",
              "|peripheral_vascular_disease         | 4023| 66.7| 2008| 33.3|\n",
              "|hyperlipidemia                      | 5628| 93.3|  403|  6.7|\n",
              "|copd                                | 4720| 78.3| 1311| 21.7|\n",
              "|acute_ischemic_stroke               | 5761| 95.5|  270|  4.5|\n",
              "|malignant_cancer                    | 5490| 91.0|  541|  9.0|\n",
              "|metastatic_solid_tumor              | 5822| 96.5|  209|  3.5|\n",
              "|cirrhosis                           | 5708| 94.6|  323|  5.4|\n",
              "|obesity                             | 4861| 80.6| 1170| 19.4|\n",
              "|deep_vein_thrombosis                | 5907| 97.9|  124|  2.1|\n",
              "|pulmonary_embolism                  | 5857| 97.1|  174|  2.9|\n",
              "|shock                               | 4419| 73.3| 1612| 26.7|\n",
              "|history_major_cerebrovascular_event | 5195| 86.1|  836| 13.9|\n",
              "|diabetes                            | 3239| 53.7| 2792| 46.3|\n",
              "|immunodeficient                     | 5870| 97.3|  161|  2.7|\n",
              "|dialysis                            | 5333| 88.4|  698| 11.6|\n",
              "|antiplatelet_therapy                | 1374| 22.8| 4657| 77.2|\n",
              "|vasopressor_use                     | 2456| 40.7| 3575| 59.3|\n",
              "|calcium_channel_blockers            | 4624| 76.7| 1407| 23.3|\n",
              "|diuretics                           |  892| 14.8| 5139| 85.2|\n",
              "|potassium_sparing_diuretics         | 5430| 90.0|  601| 10.0|\n",
              "|beta_blockers                       |  873| 14.5| 5158| 85.5|\n",
              "|ace_or_arb                          | 3108| 51.5| 2923| 48.5|\n",
              "|anticoagulation_medications         | 3663| 60.7| 2368| 39.3|\n",
              "|lipid_lowering_medication           | 1693| 28.1| 4338| 71.9|\n",
              "|coronary_artery_bypass_graft        | 5117| 84.8|  914| 15.2|\n",
              "|percutaneous_coronary_intervention  | 5567| 92.3|  464|  7.7|\n",
              "|valve_surgery                       | 5054| 83.8|  977| 16.2|\n",
              "|mechanical_ventilation              |  549|  9.1| 5482| 90.9|\n",
              "|defibrillator_device                | 5674| 94.1|  357|  5.9|\n",
              "|pacemaker_device                    | 5737| 95.1|  294|  4.9|\n",
              "|mortality_90d                       | 4896| 81.2| 1135| 18.8|"
            ]
          },
          "metadata": {}
        }
      ]
    },
    {
      "cell_type": "code",
      "source": [
        "# Data inspection    ---- Plots\n",
        "\n",
        "options(repr.plot.width = 22, repr.plot.height = 6)\n",
        "outcome_var <- \"mortality_90d\"\n",
        "binary_cols_plot <- setdiff(binary_cols, outcome_var)\n",
        "CHF_data[[outcome_var]] <- factor(CHF_data[[outcome_var]], levels = c(0, 1))\n",
        "\n",
        "# ══════════════════════════════════════════════════════════════════════════════\n",
        "#  3. PLOTTING HELPERS\n",
        "# ══════════════════════════════════════════════════════════════════════════════\n",
        "plot_box_cont <- function(df, var, outcome) {\n",
        "  p_full <- ggplot(df, aes(y = .data[[var]])) +\n",
        "    geom_boxplot(na.rm = TRUE, fill = \"skyblue\", alpha = 0.7, outlier.shape = 21) +\n",
        "    theme_bw(base_size = 14) +\n",
        "    labs(title = glue(\"{var} – full cohort\"), x = NULL, y = var)\n",
        "\n",
        "  p_group <- ggplot(df, aes(x = .data[[outcome]], y = .data[[var]], fill = .data[[outcome]])) +\n",
        "    geom_boxplot(na.rm = TRUE, alpha = 0.7, outlier.shape = 21) +\n",
        "    theme_bw(base_size = 14) +\n",
        "    scale_fill_brewer(palette = \"Set2\", name = outcome) +\n",
        "    labs(title = glue(\"{var} by {outcome}\"), x = outcome, y = var) +\n",
        "    theme(legend.position = \"top\")\n",
        "\n",
        "  p_full + p_group + plot_layout(guides = \"collect\")\n",
        "}\n",
        "\n",
        "plot_hist_cont <- function(df, var, outcome) {\n",
        "  p_full <- ggplot(df, aes(x = .data[[var]])) +\n",
        "    geom_histogram(bins = 30, na.rm = TRUE, fill = \"steelblue\", color = \"black\", alpha = 0.7) +\n",
        "    theme_bw(base_size = 14) +\n",
        "    labs(title = glue(\"{var} – full cohort\"), x = var, y = \"count\")\n",
        "\n",
        "  p_group <- ggplot(df, aes(x = .data[[var]], fill = .data[[outcome]])) +\n",
        "    geom_histogram(bins = 30, na.rm = TRUE, color = \"black\", alpha = 0.7, position = \"identity\") +\n",
        "    facet_wrap(vars(.data[[outcome]]), nrow = 1, scales = \"free_y\") +\n",
        "    theme_bw(base_size = 14) +\n",
        "    scale_fill_brewer(palette = \"Set2\", name = outcome) +\n",
        "    labs(title = glue(\"{var} by {outcome}\"), x = var, y = \"count\") +\n",
        "    theme(legend.position = \"top\")\n",
        "\n",
        "  p_full + p_group + plot_layout(guides = \"collect\")\n",
        "}\n",
        "\n",
        "plot_binary_bar <- function(df, var, outcome) {\n",
        "  df_plot <- df %>%\n",
        "    mutate(\"{var}\" := factor(.data[[var]], levels = c(0, 1)))\n",
        "\n",
        "  p_full <- ggplot(df_plot, aes(x = .data[[var]], fill = .data[[var]])) +\n",
        "    geom_bar(alpha = 0.8, color = \"black\") +\n",
        "    theme_bw(base_size = 14) +\n",
        "    scale_fill_brewer(palette = \"Pastel1\", name = var) +\n",
        "    guides(fill = \"none\") +\n",
        "    labs(title = glue(\"{var} – full cohort\"), x = var, y = \"count\")\n",
        "\n",
        "  p_group <- ggplot(df_plot, aes(x = .data[[var]], fill = .data[[var]])) +\n",
        "    geom_bar(alpha = 0.8, color = \"black\") +\n",
        "    facet_wrap(vars(.data[[outcome]]), nrow = 1, scales = \"free_y\") +\n",
        "    theme_bw(base_size = 14) +\n",
        "    scale_fill_brewer(palette = \"Pastel1\", name = var) +\n",
        "    guides(fill = \"none\") +\n",
        "    labs(title = glue(\"{var} by {outcome}\"), x = var, y = \"count\")\n",
        "\n",
        "  p_full + p_group + plot_layout(guides = \"collect\")\n",
        "}\n",
        "\n",
        "# # ══════════════════════════════════════════════════════════════════════════════\n",
        "# #  4. GENERATE & DISPLAY PLOTS                                                 #\n",
        "# # ══════════════════════════════════════════════════════════════════════════════\n",
        "#  for (v in continuous_cols) {\n",
        "#   print(plot_box_cont(CHF_data, v, outcome_var))\n",
        "#  print(plot_hist_cont(CHF_data, v, outcome_var))\n",
        "#  }\n",
        "\n",
        "#  for (v in binary_cols_plot) {\n",
        "#  print(plot_binary_bar(CHF_data, v, outcome_var))\n",
        "# }"
      ],
      "metadata": {
        "collapsed": true,
        "id": "IPqr-6z-xI4W"
      },
      "execution_count": 50,
      "outputs": []
    },
    {
      "cell_type": "code",
      "source": [
        "#Outliers removal\n",
        "###############################################################################\n",
        "# WINSORISE continuous variables at 1 % / 99 %\n",
        "###############################################################################\n",
        "\n",
        "winsorise_vec <- function(x, probs = c(0.01, 0.99)) {\n",
        "  if (all(is.na(x))) return(x)                 # leave all-NA columns untouched\n",
        "  qs <- quantile(x, probs = probs, na.rm = TRUE, names = FALSE)\n",
        "  pmin(pmax(x, qs[1]), qs[2])                  # clamp to the two quantiles\n",
        "}\n",
        "\n",
        "CHF_data_winsorised <- CHF_data %>%\n",
        "  mutate(across(all_of(continuous_cols), winsorise_vec))\n",
        "\n",
        "\n",
        "###############################################################################\n",
        "# Data inspection post winsorisation    ---- Plots\n",
        "plot_box_cont <- function(df, var, outcome) {\n",
        "  p_full <- ggplot(df, aes(y = .data[[var]])) +\n",
        "    geom_boxplot(na.rm = TRUE, fill = \"skyblue\", alpha = 0.7, outlier.shape = 21) +\n",
        "    theme_bw(base_size = 14) +\n",
        "    labs(title = glue(\"{var} – full cohort\"), x = NULL, y = var)\n",
        "\n",
        "  p_group <- ggplot(df, aes(x = .data[[outcome]], y = .data[[var]], fill = .data[[outcome]])) +\n",
        "    geom_boxplot(na.rm = TRUE, alpha = 0.7, outlier.shape = 21) +\n",
        "    theme_bw(base_size = 14) +\n",
        "    scale_fill_brewer(palette = \"Set2\", name = outcome) +\n",
        "    labs(title = glue(\"{var} by {outcome}\"), x = outcome, y = var) +\n",
        "    theme(legend.position = \"top\")\n",
        "\n",
        "  p_full + p_group + plot_layout(guides = \"collect\")\n",
        "}\n",
        "\n",
        "plot_hist_cont <- function(df, var, outcome) {\n",
        "  p_full <- ggplot(df, aes(x = .data[[var]])) +\n",
        "    geom_histogram(bins = 30, na.rm = TRUE, fill = \"steelblue\", color = \"black\", alpha = 0.7) +\n",
        "    theme_bw(base_size = 14) +\n",
        "    labs(title = glue(\"{var} – full cohort\"), x = var, y = \"count\")\n",
        "\n",
        "  p_group <- ggplot(df, aes(x = .data[[var]], fill = .data[[outcome]])) +\n",
        "    geom_histogram(bins = 30, na.rm = TRUE, color = \"black\", alpha = 0.7, position = \"identity\") +\n",
        "    facet_wrap(vars(.data[[outcome]]), nrow = 1, scales = \"free_y\") +\n",
        "    theme_bw(base_size = 14) +\n",
        "    scale_fill_brewer(palette = \"Set2\", name = outcome) +\n",
        "    labs(title = glue(\"{var} by {outcome}\"), x = var, y = \"count\") +\n",
        "    theme(legend.position = \"top\")\n",
        "\n",
        "  p_full + p_group + plot_layout(guides = \"collect\")\n",
        "}\n",
        "\n",
        "#  for (v in continuous_cols) {\n",
        "#   print(plot_box_cont(CHF_data_winsorised, v, outcome_var))\n",
        "#  print(plot_hist_cont(CHF_data_winsorised, v, outcome_var))\n",
        "#  }"
      ],
      "metadata": {
        "id": "uQsxFuMD0Q1P"
      },
      "execution_count": 51,
      "outputs": []
    },
    {
      "cell_type": "code",
      "source": [
        "# Data inspection    ---- Tables\n",
        "\n",
        "cont_summary <- purrr::map_dfr(continuous_cols, function(col) {\n",
        "  v <- CHF_data_winsorised[[col]]\n",
        "  tibble(\n",
        "    variable = col,\n",
        "    median   = median(v, na.rm = TRUE),\n",
        "    IQR      = IQR(v,    na.rm = TRUE),\n",
        "    mean     = mean(v,   na.rm = TRUE),\n",
        "    sd       = sd(v,     na.rm = TRUE),\n",
        "    min      = min(v,    na.rm = TRUE),\n",
        "    max      = max(v,    na.rm = TRUE),\n",
        "    na_n     = sum(is.na(v)),\n",
        "    na_pct   = mean(is.na(v)) * 100\n",
        "  )\n",
        "}) %>%\n",
        "\n",
        "  mutate(\n",
        "    across(c(median:IQR, mean:sd, min:max, na_pct), ~ round(.x, 1))\n",
        "  )\n",
        "\n",
        "\n",
        "knitr::kable(cont_summary, caption = \"Continuous variables\")"
      ],
      "metadata": {
        "colab": {
          "base_uri": "https://localhost:8080/",
          "height": 590
        },
        "id": "5ts86mzDMAmR",
        "outputId": "463be932-838d-4382-f37c-65bd68ba4331"
      },
      "execution_count": 52,
      "outputs": [
        {
          "output_type": "display_data",
          "data": {
            "text/plain": [
              "\n",
              "\n",
              "Table: Continuous variables\n",
              "\n",
              "|variable                 | median|    IQR|   mean|      sd|    min|     max| na_n| na_pct|\n",
              "|:------------------------|------:|------:|------:|-------:|------:|-------:|----:|------:|\n",
              "|age                      |   68.0|   14.0|   65.9|    10.9|   30.3|    80.0|    0|      0|\n",
              "|weight                   |   85.0|   30.5|   88.5|    25.4|   45.0|   180.9|    0|      0|\n",
              "|height                   |  170.0|   15.0|  169.9|    10.6|  145.0|   193.0|    0|      0|\n",
              "|troponin_t               |    0.2|    0.9|    1.0|     2.5|   -1.3|    15.8|    0|      0|\n",
              "|nt_pro_bnp               | 5168.0| 8905.0| 8951.8| 10741.1| -663.7| 53436.0|    0|      0|\n",
              "|hematocrit               |   30.6|    7.6|   31.6|     5.5|   22.2|    47.2|    0|      0|\n",
              "|hemoglobin               |  100.0|   26.0|  103.2|    18.9|   71.5|   156.2|    0|      0|\n",
              "|MCH                      |   29.9|    3.0|   29.7|     2.5|   22.0|    35.5|    0|      0|\n",
              "|MCHC                     |   32.8|    2.0|   32.7|     1.5|   28.9|    36.1|    0|      0|\n",
              "|MCV                      |   90.8|    8.2|   90.8|     6.6|   72.6|   108.6|    0|      0|\n",
              "|platelet_count           |  151.0|  102.0|  163.7|    83.4|   18.3|   450.0|    0|      0|\n",
              "|RBC                      |    3.4|    0.9|    3.5|     0.7|    2.3|     5.3|    0|      0|\n",
              "|creatinine               |    1.4|    1.5|    2.2|     2.0|    0.5|    11.5|    0|      0|\n",
              "|glucose                  |  168.0|   91.0|  195.3|    89.1|   91.0|   585.4|    0|      0|\n",
              "|ALT                      |   30.0|   77.0|  120.3|   429.6| -531.5|  2866.6|    0|      0|\n",
              "|ALP                      |   89.0|   60.2|  108.2|    78.8|   30.0|   544.1|    0|      0|\n",
              "|AST                      |   42.0|  147.9|  223.6|   816.5| -701.1|  6057.6|    0|      0|\n",
              "|WBC                      |   13.7|    8.7|   15.2|     7.4|    3.7|    43.6|    0|      0|\n",
              "|sodium                   |  141.0|    5.0|  140.8|     4.1|  130.0|   154.0|    0|      0|\n",
              "|potassium                |    4.7|    0.8|    4.9|     0.7|    3.7|     7.7|    0|      0|\n",
              "|ph                       |    7.4|    0.1|    7.4|     0.1|    7.3|     7.6|    0|      0|\n",
              "|lactate                  |    2.3|    1.6|    2.8|     2.1|    0.7|    13.1|    0|      0|\n",
              "|estimated_gfr            |   47.6|   47.9|   50.6|    30.0|    4.5|   114.5|    0|      0|\n",
              "|heart_rate               |   83.8|   19.0|   85.1|    14.0|   56.2|   123.7|    0|      0|\n",
              "|systolic_blood_pressure  |  113.6|   18.8|  116.1|    15.2|   87.4|   160.9|    0|      0|\n",
              "|diastolic_blood_pressure |   60.7|   12.9|   61.8|    10.1|   41.5|    92.1|    0|      0|\n",
              "|mean_blood_pressure      |   75.7|   11.8|   77.0|     9.5|   58.4|   106.7|    0|      0|"
            ]
          },
          "metadata": {}
        }
      ]
    },
    {
      "cell_type": "code",
      "source": [
        "###############################################################################\n",
        "# 0.  One-time reproducibility switches\n",
        "###############################################################################\n",
        "set.seed(2025)                 # global seed\n",
        "RNGkind(\"L'Ecuyer-CMRG\")       # platform-independent RNG\n",
        "options(dplyr.summarise.inform = FALSE)\n"
      ],
      "metadata": {
        "id": "HfUi_XrEgs7K"
      },
      "execution_count": 53,
      "outputs": []
    },
    {
      "cell_type": "code",
      "source": [
        "###############################################################################\n",
        "# 1.  Train-test split (80 / 20, stratified)\n",
        "###############################################################################\n",
        "set.seed(202501)   # split reproducibility\n",
        "\n",
        "split_obj  <- initial_split(CHF_data_winsorised,\n",
        "                            prop   = 0.80,\n",
        "                            strata = !!sym(outcome_var))\n",
        "train_data <- training(split_obj)\n",
        "test_data  <- testing(split_obj)\n",
        "\n",
        "continuous_cols <- setdiff(continuous_cols, outcome_var)\n"
      ],
      "metadata": {
        "id": "P9qKFo7chEWI"
      },
      "execution_count": 54,
      "outputs": []
    },
    {
      "cell_type": "code",
      "source": [
        "###############################################################################\n",
        "# 3.  Integer class weights\n",
        "###############################################################################\n",
        "# class counts in TRAIN\n",
        "n1 <- sum(train_data[[outcome_var]] == 1)\n",
        "n0 <- sum(train_data[[outcome_var]] == 0)\n",
        "\n",
        "# raw inverse-prevalence weights\n",
        "w1_raw <- (n0 + n1) / (2 * n1)   # positive class\n",
        "w0_raw <- (n0 + n1) / (2 * n0)   # negative class\n",
        "\n",
        "# ---- NEW: scale so the smaller weight is exactly 1, then round --------------\n",
        "scale_factor <- 1 / min(w1_raw, w0_raw)\n",
        "w1_int <- round(w1_raw * scale_factor)\n",
        "w0_int <- round(w0_raw * scale_factor)\n",
        "\n",
        "train_data <- train_data %>%\n",
        "  mutate(case_wt = if_else(!!sym(outcome_var) == 1, w1_int, w0_int))\n"
      ],
      "metadata": {
        "id": "xnRVG3U9hmNh"
      },
      "execution_count": 55,
      "outputs": []
    },
    {
      "cell_type": "code",
      "source": [
        "###############################################################################\n",
        "# 4.  Clinically selected predictors\n",
        "###############################################################################\n",
        "# ---------------------------------------------------------------------------\n",
        "# Chosen a-priori by clinical relevance to 90-day mortality in acute / chronic\n",
        "# heart-failure admissions.\n",
        "#   • 7 continuous markers of age, cardiac strain, renal & metabolic status,\n",
        "#     haemodynamics and perfusion\n",
        "#   • 8 binary indicators of comorbidity and acute severity / therapy\n",
        "# ---------------------------------------------------------------------------\n",
        "selected <- c(\n",
        "  # continuous\n",
        "  \"age\",\n",
        "  \"creatinine\",\n",
        "  \"lactate\",\n",
        "  \"systolic_blood_pressure\",\n",
        "  \"heart_rate\",\n",
        "  # binary\n",
        "  \"gender\",\n",
        "  \"malignant_cancer\",\n",
        "  \"shock\",\n",
        "  \"mechanical_ventilation\",\n",
        "  \"vasopressor_use\"\n",
        ")\n",
        "\n",
        "message(\"Predictors in the model (n = \", length(selected), \"): \",\n",
        "        paste(selected, collapse = \", \"))\n",
        "\n",
        "# Build final weighted GLM\n",
        "final_form <- reformulate(selected, outcome_var)\n",
        "\n",
        "glm_final <- glm(final_form,\n",
        "                 data    = train_data,\n",
        "                 family  = binomial(link = \"logit\"),\n",
        "                 weights = case_wt)\n",
        "\n",
        "summary(glm_final)"
      ],
      "metadata": {
        "colab": {
          "base_uri": "https://localhost:8080/",
          "height": 538
        },
        "id": "JHz9Bm4zkSC1",
        "outputId": "eacca5b6-2947-4055-95db-b9608b7003f5"
      },
      "execution_count": 56,
      "outputs": [
        {
          "output_type": "stream",
          "name": "stderr",
          "text": [
            "Predictors in the model (n = 10): age, creatinine, lactate, systolic_blood_pressure, heart_rate, gender, malignant_cancer, shock, mechanical_ventilation, vasopressor_use\n",
            "\n"
          ]
        },
        {
          "output_type": "display_data",
          "data": {
            "text/plain": [
              "\n",
              "Call:\n",
              "glm(formula = final_form, family = binomial(link = \"logit\"), \n",
              "    data = train_data, weights = case_wt)\n",
              "\n",
              "Coefficients:\n",
              "                         Estimate Std. Error z value Pr(>|z|)    \n",
              "(Intercept)             -4.838940   0.370096 -13.075  < 2e-16 ***\n",
              "age                      0.041598   0.002619  15.886  < 2e-16 ***\n",
              "creatinine               0.120216   0.012994   9.251  < 2e-16 ***\n",
              "lactate                  0.136072   0.012218  11.137  < 2e-16 ***\n",
              "systolic_blood_pressure -0.004867   0.001843  -2.640 0.008282 ** \n",
              "heart_rate               0.010908   0.001883   5.792 6.97e-09 ***\n",
              "gender                   0.231569   0.052735   4.391 1.13e-05 ***\n",
              "malignant_cancer         1.163705   0.083486  13.939  < 2e-16 ***\n",
              "shock                    1.171527   0.064272  18.228  < 2e-16 ***\n",
              "mechanical_ventilation   0.428007   0.100205   4.271 1.94e-05 ***\n",
              "vasopressor_use         -0.235686   0.062265  -3.785 0.000154 ***\n",
              "---\n",
              "Signif. codes:  0 ‘***’ 0.001 ‘**’ 0.01 ‘*’ 0.05 ‘.’ 0.1 ‘ ’ 1\n",
              "\n",
              "(Dispersion parameter for binomial family taken to be 1)\n",
              "\n",
              "    Null deviance: 10453.1  on 4823  degrees of freedom\n",
              "Residual deviance:  8903.7  on 4813  degrees of freedom\n",
              "AIC: 8925.7\n",
              "\n",
              "Number of Fisher Scoring iterations: 5\n"
            ]
          },
          "metadata": {}
        }
      ]
    },
    {
      "cell_type": "code",
      "source": [
        "###############################################################################\n",
        "# 5.  Discrimination metrics on TRAIN and TEST\n",
        "###############################################################################\n",
        "set.seed(202505)\n",
        "\n",
        "get_metrics <- function(obs, prob, cut = 0.5) {\n",
        "  pred <- ifelse(prob >= cut, 1, 0)\n",
        "  cm   <- confusionMatrix(factor(pred, levels = c(0,1)),\n",
        "                          factor(obs,  levels = c(0,1)))\n",
        "  tibble(\n",
        "    AUC         = as.numeric(pROC::auc(obs, prob, quiet = TRUE)),  # <<< added quiet\n",
        "    Sensitivity = cm$byClass[\"Sensitivity\"],\n",
        "    Specificity = cm$byClass[\"Specificity\"],\n",
        "    Precision   = cm$byClass[\"Pos Pred Value\"],\n",
        "    Recall      = cm$byClass[\"Sensitivity\"],\n",
        "    Accuracy    = cm$overall[\"Accuracy\"]\n",
        "  )\n",
        "}\n",
        "\n",
        "\n",
        "train_prob  <- predict(glm_final, type = \"response\")\n",
        "test_prob   <- predict(glm_final, newdata = test_data, type = \"response\")\n",
        "\n",
        "perf_tbl <- bind_rows(\n",
        "  train = get_metrics(train_data[[outcome_var]], train_prob),\n",
        "  test  = get_metrics(test_data [[outcome_var]], test_prob),\n",
        "  .id = \"set\"\n",
        ")\n",
        "\n",
        "knitr::kable(perf_tbl, digits = 3,\n",
        "             caption = \"Model discrimination (cut-off = 0.50)\")\n"
      ],
      "metadata": {
        "colab": {
          "base_uri": "https://localhost:8080/",
          "height": 156
        },
        "id": "Nyt9HPfHlV7Z",
        "outputId": "c3df1735-2f7a-4e93-dd6e-a30398f87cb8"
      },
      "execution_count": 57,
      "outputs": [
        {
          "output_type": "display_data",
          "data": {
            "text/plain": [
              "\n",
              "\n",
              "Table: Model discrimination (cut-off = 0.50)\n",
              "\n",
              "|set   |   AUC| Sensitivity| Specificity| Precision| Recall| Accuracy|\n",
              "|:-----|-----:|-----------:|-----------:|---------:|------:|--------:|\n",
              "|train | 0.752|       0.760|       0.617|     0.895|  0.760|    0.733|\n",
              "|test  | 0.773|       0.767|       0.634|     0.901|  0.767|    0.742|"
            ]
          },
          "metadata": {}
        }
      ]
    },
    {
      "cell_type": "code",
      "source": [
        "###############################################################################\n",
        "# 6.  100-bootstrap internal validation (optimism-corrected metrics)\n",
        "###############################################################################\n",
        "set.seed(202506)                     # reproducible resamples\n",
        "library(purrr)\n",
        "library(dplyr, warn.conflicts = FALSE)   # re-establish dplyr::select\n",
        "\n",
        "B <- 100\n",
        "\n",
        "boot_results <- map_dfr(seq_len(B), function(i) {\n",
        "\n",
        "  idx        <- sample.int(nrow(train_data), replace = TRUE)\n",
        "  boot_train <- train_data[idx, ]\n",
        "\n",
        "  boot_fit <- glm(glm_final$formula,\n",
        "                  data    = boot_train,\n",
        "                  family  = binomial,\n",
        "                  weights = case_wt)\n",
        "\n",
        "  bind_rows(\n",
        "    apparent      = get_metrics(boot_train[[outcome_var]],\n",
        "                                predict(boot_fit, type = \"response\")),\n",
        "    test_on_train = get_metrics(train_data[[outcome_var]],\n",
        "                                predict(boot_fit, newdata = train_data,\n",
        "                                        type = \"response\")),\n",
        "    .id = \"type\"\n",
        "  ) %>% mutate(iter = i)\n",
        "})\n",
        "\n",
        "optim_tbl <- boot_results %>%\n",
        "  group_by(type) %>%\n",
        "  summarise(across(AUC:Accuracy, mean), .groups = \"drop\") %>%\n",
        "  tidyr::pivot_wider(names_from = type, values_from = AUC:Accuracy) %>%\n",
        "  mutate(across(ends_with(\"_apparent\"),\n",
        "                ~ .x - ( .x - get(sub(\"_apparent\", \"_test_on_train\", cur_column())) ),\n",
        "                .names = \"{sub('_apparent', '', .col)}_corrected\")) %>%\n",
        "  dplyr::select(ends_with(\"_corrected\")) %>%\n",
        "  mutate(set = \"optimism-corrected\") %>%\n",
        "  relocate(set)\n",
        "\n",
        "knitr::kable(optim_tbl, digits = 3,\n",
        "             caption = \"Optimism-corrected performance (B = 100)\")\n"
      ],
      "metadata": {
        "colab": {
          "base_uri": "https://localhost:8080/",
          "height": 139
        },
        "id": "VuJBfSHyoQPT",
        "outputId": "741baf16-f414-4089-bf42-9034cb29854f"
      },
      "execution_count": 58,
      "outputs": [
        {
          "output_type": "display_data",
          "data": {
            "text/plain": [
              "\n",
              "\n",
              "Table: Optimism-corrected performance (B = 100)\n",
              "\n",
              "|set                | AUC_corrected| Sensitivity_corrected| Specificity_corrected| Precision_corrected| Recall_corrected| Accuracy_corrected|\n",
              "|:------------------|-------------:|---------------------:|---------------------:|-------------------:|----------------:|------------------:|\n",
              "|optimism-corrected |          0.75|                 0.757|                 0.612|               0.894|            0.757|              0.729|"
            ]
          },
          "metadata": {}
        }
      ]
    },
    {
      "cell_type": "code",
      "source": [
        "###############################################################################\n",
        "# 7.  Calibration: Hosmer–Lemeshow test + plot  (robust to factor outcome)\n",
        "###############################################################################\n",
        "library(ResourceSelection)\n",
        "library(dplyr, warn.conflicts = FALSE)\n",
        "\n",
        "# ── 7·1  Numeric outcome vector ------------------------------------------------\n",
        "obs_num <- train_data %>%\n",
        "  pull(!!sym(outcome_var)) %>%\n",
        "  as.numeric(as.character(.))          # 0/1 numeric\n",
        "\n",
        "hl <- hoslem.test(obs_num, train_prob, g = 10)\n",
        "print(hl)\n",
        "\n",
        "# ── 7·2  Calibration plot (deciles) -------------------------------------------\n",
        "train_data %>%\n",
        "  mutate(prob        = train_prob,\n",
        "         outcome_num = obs_num,\n",
        "         decile      = ntile(prob, 10)) %>%\n",
        "  group_by(decile) %>%\n",
        "  summarise(obs  = mean(outcome_num),\n",
        "            pred = mean(prob), .groups = \"drop\") %>%\n",
        "  ggplot(aes(pred, obs)) +\n",
        "  geom_point(size = 3) +\n",
        "  geom_abline(linetype = 2) +\n",
        "  coord_equal() +\n",
        "  labs(title = \"Calibration – training set\",\n",
        "       x = \"Predicted probability (mean per decile)\",\n",
        "       y = \"Observed event rate\")\n"
      ],
      "metadata": {
        "colab": {
          "base_uri": "https://localhost:8080/",
          "height": 481
        },
        "id": "muSUCG2jpXzy",
        "outputId": "b1260ce6-eb89-4aff-e107-601ed6c60fb3"
      },
      "execution_count": 59,
      "outputs": [
        {
          "output_type": "stream",
          "name": "stdout",
          "text": [
            "\n",
            "\tHosmer and Lemeshow goodness of fit (GOF) test\n",
            "\n",
            "data:  obs_num, train_prob\n",
            "X-squared = 14884, df = 8, p-value < 2.2e-16\n",
            "\n"
          ]
        },
        {
          "output_type": "display_data",
          "data": {
            "text/plain": [
              "plot without title"
            ],
            "image/png": "[encoded data removed]"
          },
          "metadata": {
            "image/png": {
              "width": 1320,
              "height": 360
            }
          }
        }
      ]
    },
    {
      "cell_type": "code",
      "source": [
        "###############################################################################\n",
        "# 8.  Coefficient table with OR and 95 % CI\n",
        "###############################################################################\n",
        "library(broom)\n",
        "library(dplyr, warn.conflicts = FALSE)\n",
        "\n",
        "coef_tbl <- tidy(glm_final) %>%\n",
        "  mutate(\n",
        "    OR      = exp(estimate),\n",
        "    CI_low  = exp(estimate - 1.96 * std.error),\n",
        "    CI_high = exp(estimate + 1.96 * std.error)\n",
        "  ) %>%\n",
        "  dplyr::select(term, estimate, OR, CI_low, CI_high, p.value) %>%\n",
        "  mutate(\n",
        "    across(c(estimate, OR, CI_low, CI_high, p.value), \\(x) round(x, 3))\n",
        "  ) %>%\n",
        "  dplyr::arrange(p.value)\n",
        "\n",
        "knitr::kable(\n",
        "  coef_tbl,\n",
        "  caption = \"Final model coefficients (log-odds) and odds ratios ± 95 % CI\"\n",
        ")\n"
      ],
      "metadata": {
        "colab": {
          "base_uri": "https://localhost:8080/",
          "height": 312
        },
        "id": "niTVqgrJqVBl",
        "outputId": "a0107178-2d9c-4f6a-ef00-dd80e44895e8"
      },
      "execution_count": 60,
      "outputs": [
        {
          "output_type": "display_data",
          "data": {
            "text/plain": [
              "\n",
              "\n",
              "Table: Final model coefficients (log-odds) and odds ratios ± 95 % CI\n",
              "\n",
              "|term                    | estimate|    OR| CI_low| CI_high| p.value|\n",
              "|:-----------------------|--------:|-----:|------:|-------:|-------:|\n",
              "|(Intercept)             |   -4.839| 0.008|  0.004|   0.016|   0.000|\n",
              "|age                     |    0.042| 1.042|  1.037|   1.048|   0.000|\n",
              "|creatinine              |    0.120| 1.128|  1.099|   1.157|   0.000|\n",
              "|lactate                 |    0.136| 1.146|  1.119|   1.174|   0.000|\n",
              "|heart_rate              |    0.011| 1.011|  1.007|   1.015|   0.000|\n",
              "|gender                  |    0.232| 1.261|  1.137|   1.398|   0.000|\n",
              "|malignant_cancer        |    1.164| 3.202|  2.718|   3.771|   0.000|\n",
              "|shock                   |    1.172| 3.227|  2.845|   3.660|   0.000|\n",
              "|mechanical_ventilation  |    0.428| 1.534|  1.261|   1.867|   0.000|\n",
              "|vasopressor_use         |   -0.236| 0.790|  0.699|   0.893|   0.000|\n",
              "|systolic_blood_pressure |   -0.005| 0.995|  0.992|   0.999|   0.008|"
            ]
          },
          "metadata": {}
        }
      ]
    },
    {
      "cell_type": "code",
      "source": [
        "###############################################################################\n",
        "# 9.  Final prediction formula (human-readable)\n",
        "###############################################################################\n",
        "coef_vec <- coef(glm_final)\n",
        "\n",
        "# Convert into a readable equation string\n",
        "eqn <- glue::glue_collapse(\n",
        "  purrr::imap_chr(coef_vec, ~ {\n",
        "    b <- round(.x, 4)\n",
        "    if (.y == \"(Intercept)\") glue::glue(\"{b}\")\n",
        "    else glue::glue(\"{ifelse(b >= 0, '+', '')}{b} * {.y}\")\n",
        "  }),\n",
        "  sep = \" \"\n",
        ")\n",
        "\n",
        "cat(\n",
        "  \"Logit(p)  = \", eqn, \"\\n\",\n",
        "  \"Probability = 1 / (1 + exp( - Logit(p) ))\\n\", sep = \"\"\n",
        ")\n"
      ],
      "metadata": {
        "colab": {
          "base_uri": "https://localhost:8080/"
        },
        "id": "woWZ6oc3q-A-",
        "outputId": "99b9a49c-972c-433d-91de-aa68ce1bb6a8"
      },
      "execution_count": 61,
      "outputs": [
        {
          "output_type": "stream",
          "name": "stdout",
          "text": [
            "Logit(p)  = -4.8389 +0.0416 * age +0.1202 * creatinine +0.1361 * lactate -0.0049 * systolic_blood_pressure +0.0109 * heart_rate +0.2316 * gender +1.1637 * malignant_cancer +1.1715 * shock +0.428 * mechanical_ventilation -0.2357 * vasopressor_use\n",
            "Probability = 1 / (1 + exp( - Logit(p) ))\n"
          ]
        }
      ]
    },
    {
      "cell_type": "markdown",
      "source": [
        "## TRIPOD (2015) – Transparent Reporting of a multivariable prediction model for Individual Prognosis Or Diagnosis  \n",
        "\n",
        "The original TRIPOD Statement lists **22 items** grouped in Title/Abstract, Introduction, Methods, Results, Discussion and Other information.  \n",
        "Key points to tick off for every CPM paper/notebook:  \n",
        "\n",
        "| Section | Must-report items |\n",
        "|---------|------------------|\n",
        "| **Methods** | exact study design, setting, dates, candidate predictors, outcome definition & timing, handling of missing data, model-building procedures, internal validation method |\n",
        "| **Results** | flow diagram of participants, baseline characteristics (Table 1), final model (all β-coefficients + intercept), full performance (discrimination, calibration) |\n",
        "| **Discussion** | strengths/limitations, comparison with other models, clinical use, reproducible code/data availability |\n",
        "\n",
        "*Resources:* TRIPOD explanation & checklist PDFs are hosted on the TRIPOD website.\n"
      ],
      "metadata": {
        "id": "HOXDZujwuf-l"
      }
    },
    {
      "cell_type": "markdown",
      "source": [
        "## TRIPOD + AI (2024) – tailored for ML/AI prediction models  \n",
        "\n",
        "The extension keeps all 22 core items but **adds clarity for ML-specific choices**:  \n",
        "\n",
        "* data pre-processing & feature engineering steps  \n",
        "* optimiser, hyper-parameter search, hardware, software versions  \n",
        "* over-sampling / class-imbalance techniques  \n",
        "* explainability approach provided (e.g. SHAP, ICE)  \n",
        "* external test data provenance  \n",
        "\n",
        "Make sure your CPM notebook cites TRIPOD + AI when using tree-based ensembles, neural networks, or any automated feature-selection pipeline.\n"
      ],
      "metadata": {
        "id": "GqpWCPhYui7y"
      }
    },
    {
      "cell_type": "markdown",
      "source": [
        "## PROBAST – Prediction model Risk Of Bias ASsessment Tool  \n",
        "\n",
        "A 20-item checklist across four domains:\n",
        "\n",
        "1. **Participants** – spectrum, inclusion/exclusion, setting  \n",
        "2. **Predictors** – definition, timing, blinding  \n",
        "3. **Outcome** – definition, timing, blinding  \n",
        "4. **Analysis** – sample size, handling of missing data, over-fitting, performance measures  \n",
        "\n",
        "For every new CPM (development **and** validation) complete a PROBAST table; low-risk studies carry more weight for adoption.\n"
      ],
      "metadata": {
        "id": "Y1F4NC8su66j"
      }
    },
    {
      "cell_type": "markdown",
      "source": [
        "## FAIR principles and open artefacts  \n",
        "\n",
        "* **Findable** – DOI for data & code; rich metadata  \n",
        "* **Accessible** – public repository or controlled-access pathway  \n",
        "* **Interoperable** – non-proprietary formats (CSV, JSON, RDS)  \n",
        "* **Reusable** – clear licence (MIT, CC-BY), versioning, detailed README  \n",
        "\n",
        "Publishing the notebook, cleaned data dictionary, and model weights under FAIR guidelines accelerates peer review and downstream appraisal."
      ],
      "metadata": {
        "id": "6kSRg1dxvKxk"
      }
    },
    {
      "cell_type": "markdown",
      "source": [
        "## External validation ➜ Updating ➜ Impact evaluation  \n",
        "\n",
        "1. **External validation** – new cohort, same definitions → report c-statistic, calibration-slope, decision-curve  \n",
        "2. **Model updating** – if calibration-slope ≠ 1, apply intercept/slope update or refit selected predictors  \n",
        "3. **Impact study** – cluster-RCT or before-after study to show change in clinician behaviour/patient outcomes  \n",
        "\n",
        "Moons *et al.* (2012) outline this three-step lifecycle for clinical prediction models."
      ],
      "metadata": {
        "id": "KvMN6UdMvNYU"
      }
    }
  ]
}